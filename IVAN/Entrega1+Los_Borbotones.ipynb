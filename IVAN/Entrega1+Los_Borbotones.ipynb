{
 "cells": [
  {
   "cell_type": "markdown",
   "id": "6d4308e6",
   "metadata": {},
   "source": [
    "# PRIMERA ENTREGA DEL PROYECTO FINAL 💻"
   ]
  },
  {
   "cell_type": "markdown",
   "id": "5211e3a8",
   "metadata": {},
   "source": [
    "- Curso: Data Science\n",
    "\n",
    "- Comisión: 22740\n",
    "\n",
    "- Profesor: Luca Citta Giordano\n",
    "\n",
    "- Tutor: Juan Felipe Gonzales Sanmiguel"
   ]
  },
  {
   "cell_type": "markdown",
   "id": "26ea8ec2",
   "metadata": {},
   "source": [
    "## Equipo de trabajo\n",
    "- Germán Hilbert:\n",
    "- Iván González Seguezzo:\n",
    "- José Nardulli:"
   ]
  },
  {
   "cell_type": "markdown",
   "id": "a2d97f2e",
   "metadata": {},
   "source": [
    "## Presentación del problema"
   ]
  },
  {
   "cell_type": "markdown",
   "id": "b0bdf0bd",
   "metadata": {},
   "source": []
  },
  {
   "cell_type": "markdown",
   "id": "87de5ba2",
   "metadata": {},
   "source": [
    "## Objetivos de la investigación"
   ]
  },
  {
   "cell_type": "markdown",
   "id": "eceaf4f6",
   "metadata": {},
   "source": [
    "#### Objetivo principal:"
   ]
  },
  {
   "cell_type": "markdown",
   "id": "101cacb5",
   "metadata": {},
   "source": [
    "- Hallar las principales variables que pueden influir en el precio de las viviendas."
   ]
  },
  {
   "cell_type": "markdown",
   "id": "29d7ab22",
   "metadata": {},
   "source": [
    "#### Objetivos secundarios:"
   ]
  },
  {
   "cell_type": "markdown",
   "id": "765028ec",
   "metadata": {},
   "source": [
    "- Limpiar y transformar el dataset elegido para poder manipular la información de forma eficiente.\n",
    "- Extraer *insights* que permitan un mejor entendimiento de la determinación de los precios de los inmuebles.\n",
    "- Encontrar las correlaciones más importantes entre variables, ya sean directas o inversas.\n",
    "- Determinar qué variables categóricas pueden diferenciar distintos rangos de precio.\n",
    "- "
   ]
  },
  {
   "cell_type": "markdown",
   "id": "4b780721",
   "metadata": {},
   "source": [
    "## Data Acquisition"
   ]
  },
  {
   "cell_type": "markdown",
   "id": "80f84e1c",
   "metadata": {},
   "source": [
    "## Data Wrangling"
   ]
  },
  {
   "cell_type": "markdown",
   "id": "5b5c9a28",
   "metadata": {},
   "source": [
    "## Análisis Exploratorio de Datos (EDA)"
   ]
  },
  {
   "cell_type": "markdown",
   "id": "80c40092",
   "metadata": {},
   "source": [
    "## Análisis Univariado"
   ]
  },
  {
   "cell_type": "markdown",
   "id": "00cf7f2c",
   "metadata": {},
   "source": [
    "## Análisis Bivariado"
   ]
  },
  {
   "cell_type": "markdown",
   "id": "e6cb816a",
   "metadata": {},
   "source": [
    "## Análisis Multivariado"
   ]
  },
  {
   "cell_type": "markdown",
   "id": "9cc23d0b",
   "metadata": {},
   "source": [
    "## Análisis de Componentes Principales (PCA)"
   ]
  },
  {
   "cell_type": "markdown",
   "id": "166b6993",
   "metadata": {},
   "source": [
    "## Descripción general de los datos"
   ]
  },
  {
   "cell_type": "markdown",
   "id": "eae634e7",
   "metadata": {},
   "source": [
    "## Conclusiones finales"
   ]
  },
  {
   "cell_type": "markdown",
   "id": "30678d6a",
   "metadata": {},
   "source": [
    "SDSDSDS"
   ]
  },
  {
   "cell_type": "code",
   "execution_count": null,
   "id": "3a2c6479",
   "metadata": {},
   "outputs": [],
   "source": []
  },
  {
   "cell_type": "code",
   "execution_count": null,
   "id": "e782205e",
   "metadata": {},
   "outputs": [],
   "source": []
  }
 ],
 "metadata": {
  "kernelspec": {
   "display_name": "Python 3 (ipykernel)",
   "language": "python",
   "name": "python3"
  },
  "language_info": {
   "codemirror_mode": {
    "name": "ipython",
    "version": 3
   },
   "file_extension": ".py",
   "mimetype": "text/x-python",
   "name": "python",
   "nbconvert_exporter": "python",
   "pygments_lexer": "ipython3",
   "version": "3.9.5"
  }
 },
 "nbformat": 4,
 "nbformat_minor": 5
}
